{
 "cells": [
  {
   "cell_type": "markdown",
   "metadata": {},
   "source": [
    "# 通过 PyTorch 构建神经网络\n",
    "\n",
    "深度学习网络一般量级都很大，包含数百个层级，这也是为什么叫“深度”学习网络。你可以像在上个 notebook 展示的一样，仅使用权重矩阵构建深度网络，但是这通常很繁琐并且不好实施。PyTorch 有一个很方便的模块 `nn`，可以有效地构建大型神经网络。"
   ]
  },
  {
   "cell_type": "code",
   "execution_count": 1,
   "metadata": {},
   "outputs": [],
   "source": [
    "# Import necessary packages\n",
    "\n",
    "%matplotlib inline\n",
    "%config InlineBackend.figure_format = 'retina'\n",
    "\n",
    "import numpy as np\n",
    "import torch\n",
    "\n",
    "import helper\n",
    "\n",
    "import matplotlib.pyplot as plt"
   ]
  },
  {
   "cell_type": "markdown",
   "metadata": {},
   "source": [
    "现在我们要构建一个大型网络，并用它解决识别图像中的文字的这一难题。我们将使用 MNIST 数据集，这个数据集由灰色的手写数字组成。每个图像都是 28x28，如以下示例所示：\n",
    "\n",
    "<img src='assets/mnist.png'>\n",
    "\n",
    "我们的目标是构建一个神经网络，可以预测图像中的数字。\n",
    "\n",
    "首先，我们需要获取数据集。这些数据位于 `torchvision` 软件包中。以下代码将下载 MNIST 数据集，然后为我们创建训练数据集和测试数据集。"
   ]
  },
  {
   "cell_type": "code",
   "execution_count": 10,
   "metadata": {},
   "outputs": [],
   "source": [
    "### Run this cell\n",
    "\n",
    "from torchvision import datasets, transforms\n",
    "\n",
    "# Define a transform to normalize the data\n",
    "transform = transforms.Compose([transforms.ToTensor(),\n",
    "                              transforms.Normalize((0.5,), (0.5,)),\n",
    "                              ])\n",
    "\n",
    "# Download and load the training data\n",
    "trainset = datasets.MNIST('~/.pytorch/MNIST_data/', download=True, train=True, transform=transform)\n",
    "trainloader = torch.utils.data.DataLoader(trainset, batch_size=64, shuffle=True)"
   ]
  },
  {
   "cell_type": "markdown",
   "metadata": {},
   "source": [
    "我们将训练数据加载到 `trainloader` 中，并使用 `iter(trainloader)` 使其变成迭代器。之后，我们将用它循环访问数据集以进行训练，例如"
   ]
  },
  {
   "cell_type": "markdown",
   "metadata": {},
   "source": [
    "```python\n",
    "for image, label in trainloader:\n",
    "    ## do things with images and labels\n",
    "```"
   ]
  },
  {
   "cell_type": "markdown",
   "metadata": {},
   "source": [
    "我在创建 `trainloader` 时，将批次大小设为 64，并设置为 `shuffle=True`。批次大小是指我们在一次迭代中从数据加载器获取并经过网络的图像数量。`shuffle=True` 表示每次重新访问数据加载器时，随机重排数据集。但是现在我仅获取第一批数据，以便查看数据。从下方可以看出，`images` 是一个张量，大小为 `(64, 1, 28, 28)`。因此，每批有 64 个图像，图像有 1 个颜色通道，共有 28x28 个图像。"
   ]
  },
  {
   "cell_type": "code",
   "execution_count": 12,
   "metadata": {},
   "outputs": [
    {
     "name": "stdout",
     "output_type": "stream",
     "text": [
      "<class 'torch.Tensor'>\n",
      "torch.Size([64, 1, 28, 28])\n",
      "torch.Size([64])\n"
     ]
    }
   ],
   "source": [
    "dataiter = iter(trainloader)\n",
    "images, labels = dataiter.next()\n",
    "print(type(images))\n",
    "print(images.shape)\n",
    "print(labels.shape)"
   ]
  },
  {
   "cell_type": "markdown",
   "metadata": {},
   "source": [
    "下面是一个图像示例。"
   ]
  },
  {
   "cell_type": "code",
   "execution_count": 20,
   "metadata": {},
   "outputs": [
    {
     "data": {
      "image/png": "[encoded data removed]",
      "text/plain": [
       "<Figure size 432x288 with 1 Axes>"
      ]
     },
     "metadata": {
      "image/png": {
       "height": 250,
       "width": 253
      },
      "needs_background": "light"
     },
     "output_type": "display_data"
    }
   ],
   "source": [
    "plt.imshow(images[0].numpy().squeeze(), cmap='Greys_r');"
   ]
  },
  {
   "cell_type": "markdown",
   "metadata": {},
   "source": [
    "首先，我们要使用权重矩阵和矩阵乘法，用此数据集构建一个简单的网络。然后，我们将学习如何使用 PyTorch 的 `nn` 模块构建该网络。\n",
    "\n",
    "神经网络又称为*全连接*或*密集*网络。一个层级中的每个单元都与下个层级中的每个单元相连。在全连接网络中，每个层级的输入必须是一维向量（可以作为一批样本堆叠为二维张量）。但是，我们的图像是 28x28 二维张量，因此我们需要将其转换为一维向量。考虑到大小问题，我们需要将形状为 `(64, 1, 28, 28)` 的批次图像变形为 `(64, 784)`，784 等于 28 x 28。这一步通常称为*扁平化*，我们将二维图像扁平化为一维向量。\n",
    "\n",
    "之前，我们试过了构建具有一个输出单元的简单网络。现在，我们需要 10 个输出单元，每个数字对应一个单元。如果要预测出图像中显示的数字，我们必须计算该图像属于任何数字或类别的概率。我们会得到一个离散概率分布，告诉我们图像最有可能属于哪个类别。这就是说，我们需要 10 个输出单元，对应 10 个类别（数字）。下面讲解如何将网络输出转换为概率分布。\n",
    "\n",
    "> **练习：**将 `images`扁平化。然后构建一个多层网络，有 784 个输入单元、256 个隐藏单元和 10 个输出单元，并对权重和偏差使用随机张量。目前，我们对隐藏层使用 S 型激活函数。输出层暂时不需要激活函数，下一步我们将添加计算概率分布的激活函数。"
   ]
  },
  {
   "cell_type": "code",
   "execution_count": 18,
   "metadata": {},
   "outputs": [],
   "source": [
    "## Your solution\n",
    "def activation(x):\n",
    "    return 1/(1+torch.exp(-x))\n",
    "\n",
    "inputs = images.view(images.shape[0],-1)\n",
    "\n",
    "w1 = torch.randn(784,256)\n",
    "b1 = torch.randn(256)\n",
    "\n",
    "w2 = torch.randn(256,10)\n",
    "b2 = torch.randn(10)\n",
    "\n",
    "h = activation(torch.mm(inputs,w1)+b1)\n",
    "\n",
    "out = activation(torch.mm(h,w2)+b2) \n",
    "# output of your network, should have shape (64,10)"
   ]
  },
  {
   "cell_type": "code",
   "execution_count": 21,
   "metadata": {},
   "outputs": [
    {
     "name": "stdout",
     "output_type": "stream",
     "text": [
      "torch.Size([64, 10])\n"
     ]
    }
   ],
   "source": [
    "print(out.shape)"
   ]
  },
  {
   "cell_type": "code",
   "execution_count": 25,
   "metadata": {},
   "outputs": [
    {
     "data": {
      "text/plain": [
       "torch.Size([64, 10])"
      ]
     },
     "execution_count": 25,
     "metadata": {},
     "output_type": "execute_result"
    }
   ],
   "source": [
    "torch.exp(out).shape"
   ]
  },
  {
   "cell_type": "markdown",
   "metadata": {},
   "source": [
    "现在网络有 10 个输出了。我们向网络中传入一个图像，并获得类别概率分布，告诉我们图像最有可能属于哪个数字/类别。结果如下所示：\n",
    "<img src='assets/image_distribution.png' width=500px>\n",
    "\n",
    "可以看出每个类别的概率大致相等。这是未训练网络的结果，网络尚未见过任何数据，因此返回均匀分布，每个类别的概率相等。\n",
    "\n",
    "可以用 [**softmax** 函数]计算概率分布(https://en.wikipedia.org/wiki/Softmax_function)。数学公式为：\n",
    "\n",
    "$$\n",
    "\\Large \\sigma(x_i) = \\cfrac{e^{x_i}}{\\sum_k^K{e^{x_k}}}\n",
    "$$\n",
    "\n",
    "它会将每个输入 $x_i$ 都缩放到 0 和 1 之间并标准化值，得出标准概率分布，其中概率总和是 1。\n",
    "\n",
    "> **练习：**实现一个进行 softmax 运算的函数 `softmax` ，并针对批次中的每个样本返回概率分布。注意，在运算时需要注意形状。如果有一个张量 `a` 的形状为 `(64, 10)`，另一个张量 `b` 的形状为 `(64,)`，进行 `a/b` 运算将出错，因为 PyTorch 会对列进行除法运算（称为广播），但是大小不匹配。提示：对于 64 个样本中的每个样本，你可以除以一个值，即分母中的和。因此需要使 `b` 变形为 `(64, 1)`。这样的话，PyTorch 将使 `a` 中每行的10 个值除以 `b` 中每行的一个值。另外，要注意求和的方式。你要在 `torch.sum` 中定义 `dim` 。 `dim=0` 会对行求和，而 `dim=1` 会对列求和。"
   ]
  },
  {
   "cell_type": "code",
   "execution_count": 22,
   "metadata": {},
   "outputs": [
    {
     "name": "stdout",
     "output_type": "stream",
     "text": [
      "torch.Size([64, 10])\n",
      "tensor([1.0000, 1.0000, 1.0000, 1.0000, 1.0000, 1.0000, 1.0000, 1.0000, 1.0000,\n",
      "        1.0000, 1.0000, 1.0000, 1.0000, 1.0000, 1.0000, 1.0000, 1.0000, 1.0000,\n",
      "        1.0000, 1.0000, 1.0000, 1.0000, 1.0000, 1.0000, 1.0000, 1.0000, 1.0000,\n",
      "        1.0000, 1.0000, 1.0000, 1.0000, 1.0000, 1.0000, 1.0000, 1.0000, 1.0000,\n",
      "        1.0000, 1.0000, 1.0000, 1.0000, 1.0000, 1.0000, 1.0000, 1.0000, 1.0000,\n",
      "        1.0000, 1.0000, 1.0000, 1.0000, 1.0000, 1.0000, 1.0000, 1.0000, 1.0000,\n",
      "        1.0000, 1.0000, 1.0000, 1.0000, 1.0000, 1.0000, 1.0000, 1.0000, 1.0000,\n",
      "        1.0000])\n"
     ]
    }
   ],
   "source": [
    "def softmax(x):\n",
    "    ## TODO: Implement the softmax function here\n",
    "    return torch.exp(x)/torch.sum(torch.exp(x),dim=1).view(-1,1)\n",
    "# Here, out should be the output of the network in the previous excercise with shape (64,10)\n",
    "probabilities = softmax(out)\n",
    "\n",
    "# Does it have the right shape? Should be (64, 10)\n",
    "print(probabilities.shape)\n",
    "# Does it sum to 1?\n",
    "print(probabilities.sum(dim=1))\n",
    "\n"
   ]
  },
  {
   "cell_type": "code",
   "execution_count": 24,
   "metadata": {},
   "outputs": [
    {
     "data": {
      "text/plain": [
       "tensor([[0.1297, 0.1327, 0.0488, 0.0572, 0.1326, 0.1327, 0.1326, 0.1327, 0.0488,\n",
       "         0.0522],\n",
       "        [0.0493, 0.1338, 0.0492, 0.0498, 0.1337, 0.1338, 0.1338, 0.1338, 0.0492,\n",
       "         0.1337],\n",
       "        [0.1140, 0.1141, 0.0420, 0.1139, 0.1128, 0.1141, 0.1135, 0.1141, 0.0562,\n",
       "         0.1053],\n",
       "        [0.0530, 0.1370, 0.0505, 0.0961, 0.1372, 0.1372, 0.1372, 0.1372, 0.0505,\n",
       "         0.0641],\n",
       "        [0.1304, 0.1173, 0.0480, 0.0832, 0.1305, 0.1305, 0.1305, 0.1305, 0.0492,\n",
       "         0.0498],\n",
       "        [0.0773, 0.1407, 0.0520, 0.0533, 0.1068, 0.1415, 0.1064, 0.1415, 0.0520,\n",
       "         0.1285],\n",
       "        [0.1167, 0.1170, 0.0432, 0.1083, 0.1170, 0.1170, 0.1170, 0.1170, 0.0431,\n",
       "         0.1036],\n",
       "        [0.0515, 0.1318, 0.0485, 0.1310, 0.1318, 0.1318, 0.1318, 0.1318, 0.0486,\n",
       "         0.0612],\n",
       "        [0.0575, 0.1490, 0.0548, 0.0662, 0.0683, 0.1490, 0.1464, 0.1490, 0.0548,\n",
       "         0.1049],\n",
       "        [0.0467, 0.1268, 0.0466, 0.1260, 0.1264, 0.1268, 0.1268, 0.1268, 0.0467,\n",
       "         0.1003],\n",
       "        [0.1300, 0.1339, 0.0492, 0.0493, 0.1338, 0.1339, 0.1338, 0.1339, 0.0492,\n",
       "         0.0530],\n",
       "        [0.0867, 0.1228, 0.0452, 0.0460, 0.1228, 0.1228, 0.1100, 0.1228, 0.1151,\n",
       "         0.1057],\n",
       "        [0.1255, 0.1255, 0.0462, 0.1141, 0.1255, 0.1255, 0.1187, 0.1255, 0.0462,\n",
       "         0.0473],\n",
       "        [0.0976, 0.1231, 0.0453, 0.0918, 0.1231, 0.1231, 0.1231, 0.1231, 0.0455,\n",
       "         0.1042],\n",
       "        [0.1314, 0.1324, 0.0487, 0.0595, 0.1324, 0.1324, 0.1306, 0.1324, 0.0487,\n",
       "         0.0513],\n",
       "        [0.0965, 0.1392, 0.0513, 0.0520, 0.1395, 0.1396, 0.1396, 0.1396, 0.0513,\n",
       "         0.0514],\n",
       "        [0.1186, 0.1217, 0.0448, 0.0514, 0.1217, 0.1217, 0.1213, 0.1217, 0.0560,\n",
       "         0.1210],\n",
       "        [0.1051, 0.1250, 0.0460, 0.1206, 0.1250, 0.1250, 0.1250, 0.1250, 0.0461,\n",
       "         0.0571],\n",
       "        [0.1188, 0.1188, 0.0438, 0.1138, 0.1188, 0.1188, 0.0862, 0.1188, 0.0437,\n",
       "         0.1186],\n",
       "        [0.0493, 0.1320, 0.0493, 0.1296, 0.1337, 0.1339, 0.1338, 0.1339, 0.0493,\n",
       "         0.0553],\n",
       "        [0.0736, 0.1306, 0.0480, 0.1296, 0.1305, 0.1306, 0.1303, 0.1306, 0.0481,\n",
       "         0.0481],\n",
       "        [0.1159, 0.1277, 0.0470, 0.0470, 0.1277, 0.1277, 0.1277, 0.1277, 0.1047,\n",
       "         0.0471],\n",
       "        [0.0844, 0.1385, 0.0510, 0.0522, 0.1385, 0.1385, 0.1385, 0.1385, 0.0688,\n",
       "         0.0510],\n",
       "        [0.0613, 0.1326, 0.0488, 0.1261, 0.1324, 0.1326, 0.1326, 0.1326, 0.0521,\n",
       "         0.0490],\n",
       "        [0.1336, 0.1336, 0.0492, 0.0500, 0.1336, 0.1336, 0.1011, 0.1336, 0.0576,\n",
       "         0.0740],\n",
       "        [0.0538, 0.1463, 0.0538, 0.0540, 0.1457, 0.1463, 0.1462, 0.1463, 0.0538,\n",
       "         0.0538],\n",
       "        [0.1222, 0.1222, 0.0449, 0.1222, 0.1222, 0.1222, 0.1222, 0.1221, 0.0449,\n",
       "         0.0550],\n",
       "        [0.0499, 0.1346, 0.0499, 0.1358, 0.1226, 0.1358, 0.1357, 0.1357, 0.0500,\n",
       "         0.0500],\n",
       "        [0.0509, 0.1143, 0.0505, 0.1347, 0.1372, 0.1372, 0.1372, 0.1372, 0.0505,\n",
       "         0.0505],\n",
       "        [0.0862, 0.0847, 0.0458, 0.1219, 0.1244, 0.1245, 0.1245, 0.1245, 0.0458,\n",
       "         0.1178],\n",
       "        [0.1114, 0.1254, 0.0462, 0.1227, 0.1255, 0.1255, 0.1255, 0.1255, 0.0462,\n",
       "         0.0462],\n",
       "        [0.0531, 0.1441, 0.0530, 0.0563, 0.1442, 0.1442, 0.1442, 0.1442, 0.0638,\n",
       "         0.0530],\n",
       "        [0.1143, 0.1145, 0.0437, 0.1129, 0.1145, 0.1145, 0.1145, 0.1145, 0.0423,\n",
       "         0.1145],\n",
       "        [0.0500, 0.1347, 0.0498, 0.1336, 0.1260, 0.1354, 0.1353, 0.1354, 0.0498,\n",
       "         0.0500],\n",
       "        [0.0662, 0.1255, 0.0462, 0.1254, 0.1255, 0.1255, 0.1255, 0.1255, 0.0462,\n",
       "         0.0886],\n",
       "        [0.0538, 0.1435, 0.0538, 0.0555, 0.1462, 0.1462, 0.1462, 0.1462, 0.0538,\n",
       "         0.0548],\n",
       "        [0.1176, 0.1177, 0.0478, 0.0884, 0.1177, 0.1177, 0.1145, 0.1177, 0.0442,\n",
       "         0.1170],\n",
       "        [0.1369, 0.1370, 0.0504, 0.0839, 0.0800, 0.1370, 0.1370, 0.1370, 0.0504,\n",
       "         0.0506],\n",
       "        [0.1211, 0.1276, 0.0470, 0.1009, 0.1273, 0.1276, 0.1271, 0.1276, 0.0469,\n",
       "         0.0469],\n",
       "        [0.0523, 0.1418, 0.0522, 0.0523, 0.1418, 0.1418, 0.1416, 0.1418, 0.0542,\n",
       "         0.0804],\n",
       "        [0.1215, 0.1229, 0.0452, 0.1208, 0.1229, 0.1229, 0.1228, 0.1229, 0.0452,\n",
       "         0.0529],\n",
       "        [0.0541, 0.1423, 0.0525, 0.0682, 0.1428, 0.1428, 0.1428, 0.1428, 0.0529,\n",
       "         0.0590],\n",
       "        [0.0878, 0.1283, 0.0472, 0.1282, 0.1283, 0.1283, 0.1282, 0.1283, 0.0476,\n",
       "         0.0478],\n",
       "        [0.1334, 0.1336, 0.0491, 0.0493, 0.1336, 0.1336, 0.1334, 0.1336, 0.0511,\n",
       "         0.0494],\n",
       "        [0.1148, 0.1211, 0.0447, 0.1099, 0.1211, 0.1211, 0.0804, 0.1211, 0.0446,\n",
       "         0.1211],\n",
       "        [0.1220, 0.1222, 0.0450, 0.0481, 0.1222, 0.1222, 0.1222, 0.1222, 0.0534,\n",
       "         0.1206],\n",
       "        [0.1221, 0.1217, 0.0449, 0.1221, 0.0556, 0.1221, 0.1221, 0.1221, 0.0454,\n",
       "         0.1217],\n",
       "        [0.1144, 0.1145, 0.0421, 0.1134, 0.1145, 0.1145, 0.1145, 0.1145, 0.0433,\n",
       "         0.1142],\n",
       "        [0.0947, 0.1707, 0.0634, 0.0634, 0.0639, 0.1725, 0.0720, 0.1725, 0.0635,\n",
       "         0.0635],\n",
       "        [0.0501, 0.1339, 0.0492, 0.0697, 0.1338, 0.1339, 0.1339, 0.1339, 0.1030,\n",
       "         0.0587],\n",
       "        [0.0496, 0.1348, 0.0496, 0.1319, 0.1301, 0.1348, 0.1348, 0.1348, 0.0496,\n",
       "         0.0498],\n",
       "        [0.1218, 0.1239, 0.0456, 0.0456, 0.1239, 0.1239, 0.1236, 0.1239, 0.0456,\n",
       "         0.1221],\n",
       "        [0.0612, 0.1174, 0.0432, 0.1041, 0.1174, 0.1174, 0.1174, 0.1174, 0.0869,\n",
       "         0.1174],\n",
       "        [0.1236, 0.1148, 0.0461, 0.1232, 0.1234, 0.1252, 0.1252, 0.1252, 0.0461,\n",
       "         0.0472],\n",
       "        [0.1332, 0.1335, 0.0491, 0.0514, 0.1335, 0.1335, 0.1335, 0.1335, 0.0496,\n",
       "         0.0491],\n",
       "        [0.0766, 0.1385, 0.0510, 0.0778, 0.1385, 0.1385, 0.1385, 0.1385, 0.0510,\n",
       "         0.0510],\n",
       "        [0.1126, 0.1126, 0.0414, 0.1117, 0.1126, 0.1126, 0.1102, 0.1126, 0.0719,\n",
       "         0.1019],\n",
       "        [0.1190, 0.1190, 0.0438, 0.1080, 0.1190, 0.1190, 0.0526, 0.1190, 0.0839,\n",
       "         0.1165],\n",
       "        [0.0509, 0.1326, 0.0488, 0.0597, 0.1326, 0.1326, 0.1326, 0.1326, 0.0488,\n",
       "         0.1286],\n",
       "        [0.0767, 0.1396, 0.0514, 0.0514, 0.0756, 0.1398, 0.1279, 0.1398, 0.0605,\n",
       "         0.1372],\n",
       "        [0.1138, 0.1157, 0.0426, 0.0433, 0.1157, 0.1157, 0.1157, 0.1157, 0.1085,\n",
       "         0.1135],\n",
       "        [0.1013, 0.1250, 0.0460, 0.0580, 0.1251, 0.1251, 0.1251, 0.1251, 0.0460,\n",
       "         0.1234],\n",
       "        [0.0549, 0.1478, 0.0544, 0.0545, 0.1475, 0.1479, 0.1363, 0.1479, 0.0544,\n",
       "         0.0544],\n",
       "        [0.1235, 0.1236, 0.0455, 0.0642, 0.1236, 0.1236, 0.1236, 0.1236, 0.0457,\n",
       "         0.1031]])"
      ]
     },
     "execution_count": 24,
     "metadata": {},
     "output_type": "execute_result"
    }
   ],
   "source": [
    "probabilities"
   ]
  },
  {
   "cell_type": "markdown",
   "metadata": {},
   "source": [
    "## 通过 PyTorch 构建网络\n",
    "\n",
    "PyTorch 提供了`nn`模块，大大地简化了网络构建过程。我将演示如何构建上述同一个网络，即包含 784 个输入、256 个隐藏单元、10 个输出单元和一个 softmax 输出。"
   ]
  },
  {
   "cell_type": "code",
   "execution_count": 23,
   "metadata": {},
   "outputs": [],
   "source": [
    "from torch import nn"
   ]
  },
  {
   "cell_type": "code",
   "execution_count": 26,
   "metadata": {},
   "outputs": [],
   "source": [
    "class Network(nn.Module):\n",
    "    def __init__(self):\n",
    "        super().__init__()\n",
    "        \n",
    "        # Inputs to hidden layer linear transformation\n",
    "        self.hidden = nn.Linear(784, 256)\n",
    "        # Output layer, 10 units - one for each digit\n",
    "        self.output = nn.Linear(256, 10)\n",
    "        \n",
    "        # Define sigmoid activation and softmax output \n",
    "        self.sigmoid = nn.Sigmoid()\n",
    "        self.softmax = nn.Softmax(dim=1)\n",
    "        \n",
    "    def forward(self, x):\n",
    "        # Pass the input tensor through each of our operations\n",
    "        x = self.hidden(x)\n",
    "        x = self.sigmoid(x)\n",
    "        x = self.output(x)\n",
    "        x = self.softmax(x)\n",
    "        \n",
    "        return x"
   ]
  },
  {
   "cell_type": "markdown",
   "metadata": {},
   "source": [
    "分步讲解。"
   ]
  },
  {
   "cell_type": "markdown",
   "metadata": {},
   "source": [
    "```python\n",
    "class Network(nn.Module):\n",
    "```"
   ]
  },
  {
   "cell_type": "markdown",
   "metadata": {},
   "source": [
    "先继承 `nn.Module`。与 `super().__init__()` 相结合，创建一个跟踪架构的类，并提供大量有用的方法和属性。注意，在为网络创建类时，必须继承 `nn.Module`。类可以随意命名。"
   ]
  },
  {
   "cell_type": "markdown",
   "metadata": {},
   "source": [
    "```python\n",
    "self.hidden = nn.Linear(784, 256)\n",
    "```"
   ]
  },
  {
   "cell_type": "markdown",
   "metadata": {},
   "source": [
    "这行创建一个线性转换模块 $x\\mathbf{W} + b$，其中有 784 个输入和 256 个输出，并赋值给 `self.hidden`。该模块会自动创建权重和偏差张量，供我们在 `forward` 方法中使用。创建网络 (`net`) 后，你可以使用 `net.hidden.weight` 和 `net.hidden.bias` 访问权重和偏差张量。"
   ]
  },
  {
   "cell_type": "code",
   "execution_count": null,
   "metadata": {},
   "outputs": [],
   "source": [
    "self.output = nn.Linear(256, 10)"
   ]
  },
  {
   "cell_type": "markdown",
   "metadata": {},
   "source": [
    "同样，这里会创建另一个有 256 个输入和 10 个输出的线性转换。"
   ]
  },
  {
   "cell_type": "code",
   "execution_count": null,
   "metadata": {},
   "outputs": [],
   "source": [
    "self.sigmoid = nn.Sigmoid()\n",
    "self.softmax = nn.Softmax(dim=1)"
   ]
  },
  {
   "cell_type": "markdown",
   "metadata": {},
   "source": [
    "然后，我定义了 S 型激活函数和 softmax 输出的运算。在 `nn.Softmax(dim=1)` 中设置 `dim=1` 会计算各个列的 softmax 值。"
   ]
  },
  {
   "cell_type": "code",
   "execution_count": null,
   "metadata": {},
   "outputs": [],
   "source": [
    "def forward(self, x):"
   ]
  },
  {
   "cell_type": "markdown",
   "metadata": {},
   "source": [
    "用 `nn.Module` 创建的 PyTorch 网络必须定义 `forward` 方法。它会接受一个张量 `x` 并将其传入你在 `__init__` 方法中定义的运算。"
   ]
  },
  {
   "cell_type": "code",
   "execution_count": null,
   "metadata": {},
   "outputs": [],
   "source": [
    "x = self.hidden(x)\n",
    "x = self.sigmoid(x)\n",
    "x = self.output(x)\n",
    "x = self.softmax(x)"
   ]
  },
  {
   "cell_type": "markdown",
   "metadata": {},
   "source": [
    "我们将输入张量 `x` 传入重新赋值给 `x` 的每个运算。可以看出输入张量经过隐藏层，然后经过 S 型函数、输出层，最终经过 softmax 函数。.变量可以命名为任何名称，只要运算的输入和输出与你要构建的网络架构匹配即可。你在 `__init__` 方法中的定义顺序不重要，但是需要在 `forward` 方法中正确地设定运算顺序。\n",
    "\n",
    "现在我们可以创建一个 `Network` 对象。"
   ]
  },
  {
   "cell_type": "code",
   "execution_count": null,
   "metadata": {},
   "outputs": [],
   "source": [
    "# Create the network and look at it's text representation\n",
    "model = Network()\n",
    "model"
   ]
  },
  {
   "cell_type": "markdown",
   "metadata": {},
   "source": [
    "你可以使用 `torch.nn.functional` 模块来更简练清晰地定义网络。这是最常见的网络定义方式，因为很多运算是简单的元素级函数。我们通常将此模块导入为 `F`，即 `import torch.nn.functional as F`。"
   ]
  },
  {
   "cell_type": "code",
   "execution_count": null,
   "metadata": {},
   "outputs": [],
   "source": [
    "import torch.nn.functional as F\n",
    "\n",
    "class Network(nn.Module):\n",
    "    def __init__(self):\n",
    "        super().__init__()\n",
    "        # Inputs to hidden layer linear transformation\n",
    "        self.hidden = nn.Linear(784, 256)\n",
    "        # Output layer, 10 units - one for each digit\n",
    "        self.output = nn.Linear(256, 10)\n",
    "        \n",
    "    def forward(self, x):\n",
    "        # Hidden layer with sigmoid activation\n",
    "        x = F.sigmoid(self.hidden(x))\n",
    "        # Output layer with softmax activation\n",
    "        x = F.softmax(self.output(x), dim=1)\n",
    "        \n",
    "        return x"
   ]
  },
  {
   "cell_type": "markdown",
   "metadata": {},
   "source": [
    "### 激活函数\n",
    "\n",
    "到目前为止，我们只学习了 softmax 激活函数，但是通常任何函数都可以用作激活函数。但是，要使网络能逼近非线性函数，激活函数必须是非线性函数。下面是一些常见的激活函数示例：Tanh（双曲正切）和 ReLU（修正线性单元）。\n",
    "\n",
    "<img src=\"assets/activation.png\" width=700px>\n",
    "\n",
    "在实践中，ReLU 几乎一直用作隐藏层激活函数。\n",
    "\n",
    "### 构建神经网络\n",
    "\n",
    "<img src=\"assets/mlp_mnist.png\" width=600px>\n",
    "\n",
    "> **练习：**请创建如下网络：输入层有 784 个单元，然后是有 128 个单元的隐藏层和一个 ReLU 激活函数，接着是有 64 个单元的隐藏层和一个 ReLU 激活函数，最终是一个应用 softmax 激活函数的输出层（如上所示）。你可以通过 `nn.ReLU` 模块或 `F.relu` 函数应用 ReLU 激活函数。"
   ]
  },
  {
   "cell_type": "code",
   "execution_count": 44,
   "metadata": {},
   "outputs": [
    {
     "data": {
      "text/plain": [
       "Network(\n",
       "  (fc1): Linear(in_features=784, out_features=128, bias=True)\n",
       "  (fc2): Linear(in_features=128, out_features=64, bias=True)\n",
       "  (fc3): Linear(in_features=64, out_features=10, bias=True)\n",
       ")"
      ]
     },
     "execution_count": 44,
     "metadata": {},
     "output_type": "execute_result"
    }
   ],
   "source": [
    "## Your solution here\n",
    "import torch.nn.functional as F\n",
    "class MyNetWork (nn.Module):\n",
    "    def __init__(self):\n",
    "        super().__init__()\n",
    "        # Defining the layers, 128, 64, 10 units each\n",
    "        self.l1 = nn.Linear(784, 128)\n",
    "        self.l2 = nn.Linear(128, 64)\n",
    "        # Output layer, 10 units - one for each digit\n",
    "        self.l3 = nn.Linear(64, 10)\n",
    "       \n",
    "      \n",
    "    def forward(self,x):\n",
    "        # Hidden layer with sigmoid activation\n",
    "        x = self.l1(x)\n",
    "        x = F.relu(x)\n",
    "        x = self.l2(x)\n",
    "        x = F.relu(x)\n",
    "        x = self.l3(x)\n",
    "        x = F.softmax(x,dim=1)\n",
    "        \n",
    "        return x\n",
    "\n",
    "model = Network()\n",
    "model"
   ]
  },
  {
   "cell_type": "markdown",
   "metadata": {},
   "source": [
    "### 初始化权重和偏差\n",
    "\n",
    "权重和偏差会自动初始化，但是你可以自定义它们的初始化方式。权重和偏差是附加到所定义层级上的张量，例如，你可以通过 `model.fc1.weight` 获取权重。"
   ]
  },
  {
   "cell_type": "code",
   "execution_count": 45,
   "metadata": {},
   "outputs": [
    {
     "name": "stdout",
     "output_type": "stream",
     "text": [
      "Parameter containing:\n",
      "tensor([[-0.0183, -0.0338, -0.0273,  ..., -0.0061, -0.0296, -0.0293],\n",
      "        [ 0.0081, -0.0299, -0.0113,  ...,  0.0075,  0.0347,  0.0050],\n",
      "        [-0.0043,  0.0003, -0.0238,  ...,  0.0018,  0.0116, -0.0334],\n",
      "        ...,\n",
      "        [ 0.0115,  0.0151,  0.0269,  ..., -0.0310,  0.0181, -0.0345],\n",
      "        [ 0.0342, -0.0159,  0.0027,  ..., -0.0043, -0.0053,  0.0357],\n",
      "        [-0.0217, -0.0180, -0.0159,  ...,  0.0312,  0.0187, -0.0294]],\n",
      "       requires_grad=True)\n",
      "Parameter containing:\n",
      "tensor([ 0.0254,  0.0076,  0.0285, -0.0006, -0.0078, -0.0103,  0.0166,  0.0166,\n",
      "        -0.0078,  0.0291,  0.0161, -0.0292,  0.0076,  0.0230, -0.0165, -0.0191,\n",
      "        -0.0308, -0.0168, -0.0155,  0.0292,  0.0279,  0.0175,  0.0316, -0.0059,\n",
      "        -0.0319,  0.0191,  0.0313,  0.0151,  0.0148,  0.0220, -0.0044, -0.0086,\n",
      "        -0.0147,  0.0204,  0.0082,  0.0009, -0.0228,  0.0150, -0.0223,  0.0013,\n",
      "        -0.0231, -0.0026, -0.0199, -0.0244, -0.0231, -0.0207,  0.0321, -0.0122,\n",
      "         0.0299,  0.0177,  0.0356, -0.0155, -0.0297,  0.0091,  0.0171,  0.0091,\n",
      "         0.0145,  0.0143, -0.0077,  0.0301,  0.0136, -0.0080, -0.0289, -0.0306,\n",
      "        -0.0027, -0.0293,  0.0103, -0.0136,  0.0174, -0.0110, -0.0224, -0.0339,\n",
      "        -0.0198, -0.0181, -0.0273, -0.0014, -0.0262, -0.0281, -0.0059, -0.0043,\n",
      "         0.0333, -0.0175,  0.0312,  0.0070,  0.0210, -0.0112,  0.0152,  0.0195,\n",
      "        -0.0323,  0.0331,  0.0188, -0.0313, -0.0070,  0.0152,  0.0231,  0.0136,\n",
      "         0.0103, -0.0253, -0.0353, -0.0045,  0.0347, -0.0018, -0.0211, -0.0083,\n",
      "         0.0197,  0.0087,  0.0220,  0.0319, -0.0253,  0.0025,  0.0074, -0.0266,\n",
      "         0.0119, -0.0065, -0.0100, -0.0022, -0.0282, -0.0036, -0.0008, -0.0222,\n",
      "         0.0080, -0.0056,  0.0266, -0.0050, -0.0159, -0.0222,  0.0171,  0.0338],\n",
      "       requires_grad=True)\n"
     ]
    }
   ],
   "source": [
    "print(model.fc1.weight)\n",
    "print(model.fc1.bias)"
   ]
  },
  {
   "cell_type": "markdown",
   "metadata": {},
   "source": [
    "要自定义初始化过程，我们需要原地修改这些张量。这些实际上是 autograd *变量*，因此我们需要使用 `model.fc1.weight.data` 获取实际张量。获得张量后，我们可以用 0（对于偏差）或随机正常值填充这些张量。"
   ]
  },
  {
   "cell_type": "code",
   "execution_count": 46,
   "metadata": {},
   "outputs": [
    {
     "data": {
      "text/plain": [
       "tensor([0., 0., 0., 0., 0., 0., 0., 0., 0., 0., 0., 0., 0., 0., 0., 0., 0., 0., 0., 0., 0., 0., 0., 0.,\n",
       "        0., 0., 0., 0., 0., 0., 0., 0., 0., 0., 0., 0., 0., 0., 0., 0., 0., 0., 0., 0., 0., 0., 0., 0.,\n",
       "        0., 0., 0., 0., 0., 0., 0., 0., 0., 0., 0., 0., 0., 0., 0., 0., 0., 0., 0., 0., 0., 0., 0., 0.,\n",
       "        0., 0., 0., 0., 0., 0., 0., 0., 0., 0., 0., 0., 0., 0., 0., 0., 0., 0., 0., 0., 0., 0., 0., 0.,\n",
       "        0., 0., 0., 0., 0., 0., 0., 0., 0., 0., 0., 0., 0., 0., 0., 0., 0., 0., 0., 0., 0., 0., 0., 0.,\n",
       "        0., 0., 0., 0., 0., 0., 0., 0.])"
      ]
     },
     "execution_count": 46,
     "metadata": {},
     "output_type": "execute_result"
    }
   ],
   "source": [
    "# Set biases to all zeros\n",
    "model.fc1.bias.data.fill_(0)"
   ]
  },
  {
   "cell_type": "code",
   "execution_count": 47,
   "metadata": {},
   "outputs": [
    {
     "data": {
      "text/plain": [
       "tensor([[ 3.5999e-03,  4.3774e-03, -1.0635e-02,  ...,  8.1200e-03,\n",
       "         -1.7705e-02,  4.5192e-04],\n",
       "        [ 6.2822e-03,  2.3551e-05, -9.5988e-03,  ...,  1.1017e-02,\n",
       "         -3.4049e-03, -1.3228e-03],\n",
       "        [ 1.9183e-03,  1.3098e-02, -5.3167e-03,  ...,  1.9350e-02,\n",
       "         -2.5842e-03, -1.1449e-02],\n",
       "        ...,\n",
       "        [-7.0668e-03,  8.3059e-03, -9.2549e-03,  ...,  7.2348e-03,\n",
       "          3.6239e-03,  2.3592e-02],\n",
       "        [-1.1984e-02, -1.2146e-02,  7.6645e-04,  ..., -4.7534e-03,\n",
       "          1.2911e-02,  2.5027e-03],\n",
       "        [-2.7492e-03, -1.6777e-02, -1.7015e-03,  ...,  2.2376e-03,\n",
       "          1.3729e-02,  6.0875e-03]])"
      ]
     },
     "execution_count": 47,
     "metadata": {},
     "output_type": "execute_result"
    }
   ],
   "source": [
    "# sample from random normal with standard dev = 0.01\n",
    "model.fc1.weight.data.normal_(std=0.01)"
   ]
  },
  {
   "cell_type": "markdown",
   "metadata": {},
   "source": [
    "### 前向传递\n",
    "\n",
    "我们已经创建好网络，看看传入图像后会发生什么。"
   ]
  },
  {
   "cell_type": "code",
   "execution_count": 48,
   "metadata": {},
   "outputs": [
    {
     "data": {
      "image/png": "[encoded data removed]",
      "text/plain": [
       "<Figure size 432x648 with 2 Axes>"
      ]
     },
     "metadata": {
      "image/png": {
       "height": 226,
       "width": 423
      },
      "needs_background": "light"
     },
     "output_type": "display_data"
    }
   ],
   "source": [
    "# Grab some data \n",
    "dataiter = iter(trainloader)\n",
    "images, labels = dataiter.next()\n",
    "\n",
    "# Resize images into a 1D vector, new shape is (batch size, color channels, image pixels) \n",
    "images.resize_(64, 1, 784)\n",
    "# or images.resize_(images.shape[0], 1, 784) to automatically get batch size\n",
    "\n",
    "# Forward pass through the network\n",
    "img_idx = 0\n",
    "ps = model.forward(images[img_idx,:])\n",
    "\n",
    "img = images[img_idx]\n",
    "helper.view_classify(img.view(1, 28, 28), ps)"
   ]
  },
  {
   "cell_type": "markdown",
   "metadata": {},
   "source": [
    "是的，我们的网络还不能判断出这个数字。这是因为我们尚未训练它，所有权重都是随机的！\n",
    "\n",
    "### 使用 `nn.Sequential`\n",
    "\n",
    "PyTorch 提供了一种方便的方法来构建这类网络（其中张量按顺序执行各种运算）：`nn.Sequential` ([文档](https://pytorch.org/docs/master/nn.html#torch.nn.Sequential))。使用它来构建等效网络："
   ]
  },
  {
   "cell_type": "code",
   "execution_count": 49,
   "metadata": {},
   "outputs": [
    {
     "name": "stdout",
     "output_type": "stream",
     "text": [
      "Sequential(\n",
      "  (0): Linear(in_features=784, out_features=128, bias=True)\n",
      "  (1): ReLU()\n",
      "  (2): Linear(in_features=128, out_features=64, bias=True)\n",
      "  (3): ReLU()\n",
      "  (4): Linear(in_features=64, out_features=10, bias=True)\n",
      "  (5): Softmax()\n",
      ")\n"
     ]
    },
    {
     "data": {
      "image/png": "[encoded data removed]",
      "text/plain": [
       "<Figure size 432x648 with 2 Axes>"
      ]
     },
     "metadata": {
      "image/png": {
       "height": 226,
       "width": 423
      },
      "needs_background": "light"
     },
     "output_type": "display_data"
    }
   ],
   "source": [
    "# Hyperparameters for our network\n",
    "input_size = 784\n",
    "hidden_sizes = [128, 64]\n",
    "output_size = 10\n",
    "\n",
    "# Build a feed-forward network\n",
    "model = nn.Sequential(nn.Linear(input_size, hidden_sizes[0]),\n",
    "                      nn.ReLU(),\n",
    "                      nn.Linear(hidden_sizes[0], hidden_sizes[1]),\n",
    "                      nn.ReLU(),\n",
    "                      nn.Linear(hidden_sizes[1], output_size),\n",
    "                      nn.Softmax(dim=1))\n",
    "print(model)\n",
    "\n",
    "# Forward pass through the network and display output\n",
    "images, labels = next(iter(trainloader))\n",
    "images.resize_(images.shape[0], 1, 784)\n",
    "ps = model.forward(images[0,:])\n",
    "helper.view_classify(images[0].view(1, 28, 28), ps)"
   ]
  },
  {
   "cell_type": "markdown",
   "metadata": {},
   "source": [
    "模型和之前一样：输入层有 784 个单元，然后是有 128 个单元的隐藏层和一个 ReLU 激活函数，然后是有 64 个单元的隐藏层和另一个 ReLU 激活函数，然后是有 10 个单元的输出层和 softmax 输出。\n",
    "\n",
    "通过传入相应的索引即可执行运算。例如，如果你想获得第一个线性运算并查看权重，可以使用 `model[0]`。"
   ]
  },
  {
   "cell_type": "code",
   "execution_count": 50,
   "metadata": {},
   "outputs": [
    {
     "name": "stdout",
     "output_type": "stream",
     "text": [
      "Linear(in_features=784, out_features=128, bias=True)\n"
     ]
    },
    {
     "data": {
      "text/plain": [
       "Parameter containing:\n",
       "tensor([[-0.0065,  0.0033, -0.0234,  ..., -0.0041,  0.0216,  0.0257],\n",
       "        [-0.0062, -0.0177, -0.0331,  ...,  0.0111, -0.0320,  0.0226],\n",
       "        [-0.0296,  0.0289, -0.0046,  ..., -0.0174,  0.0127,  0.0103],\n",
       "        ...,\n",
       "        [-0.0270, -0.0143,  0.0008,  ..., -0.0226, -0.0024,  0.0022],\n",
       "        [ 0.0355, -0.0034, -0.0149,  ...,  0.0082, -0.0167,  0.0318],\n",
       "        [-0.0289,  0.0048, -0.0228,  ...,  0.0038,  0.0025, -0.0277]],\n",
       "       requires_grad=True)"
      ]
     },
     "execution_count": 50,
     "metadata": {},
     "output_type": "execute_result"
    }
   ],
   "source": [
    "print(model[0])\n",
    "model[0].weight"
   ]
  },
  {
   "cell_type": "markdown",
   "metadata": {},
   "source": [
    "还可以传入 `OrderedDict` 以命名单个层级和运算，而不是使用递增的整数。注意，因为字典键必须是唯一的，所以_每个运算都必须具有不同的名称_。"
   ]
  },
  {
   "cell_type": "code",
   "execution_count": 51,
   "metadata": {},
   "outputs": [
    {
     "data": {
      "text/plain": [
       "Sequential(\n",
       "  (fc1): Linear(in_features=784, out_features=128, bias=True)\n",
       "  (relu1): ReLU()\n",
       "  (fc2): Linear(in_features=128, out_features=64, bias=True)\n",
       "  (relu2): ReLU()\n",
       "  (output): Linear(in_features=64, out_features=10, bias=True)\n",
       "  (softmax): Softmax()\n",
       ")"
      ]
     },
     "execution_count": 51,
     "metadata": {},
     "output_type": "execute_result"
    }
   ],
   "source": [
    "from collections import OrderedDict\n",
    "model = nn.Sequential(OrderedDict([\n",
    "                      ('fc1', nn.Linear(input_size, hidden_sizes[0])),\n",
    "                      ('relu1', nn.ReLU()),\n",
    "                      ('fc2', nn.Linear(hidden_sizes[0], hidden_sizes[1])),\n",
    "                      ('relu2', nn.ReLU()),\n",
    "                      ('output', nn.Linear(hidden_sizes[1], output_size)),\n",
    "                      ('softmax', nn.Softmax(dim=1))]))\n",
    "model"
   ]
  },
  {
   "cell_type": "markdown",
   "metadata": {},
   "source": [
    "现在你可以通过整数或名称访问层级了"
   ]
  },
  {
   "cell_type": "code",
   "execution_count": 52,
   "metadata": {},
   "outputs": [
    {
     "name": "stdout",
     "output_type": "stream",
     "text": [
      "Linear(in_features=784, out_features=128, bias=True)\n",
      "Linear(in_features=784, out_features=128, bias=True)\n"
     ]
    }
   ],
   "source": [
    "print(model[0])\n",
    "print(model.fc1)"
   ]
  },
  {
   "cell_type": "markdown",
   "metadata": {},
   "source": [
    "在下个 notebook 中，我们将学习如何训练神经网络，以便准确预测 MNIST 图像中出现的数字。"
   ]
  }
 ],
 "metadata": {
  "kernelspec": {
   "display_name": "Python 3",
   "language": "python",
   "name": "python3"
  },
  "language_info": {
   "codemirror_mode": {
    "name": "ipython",
    "version": 3
   },
   "file_extension": ".py",
   "mimetype": "text/x-python",
   "name": "python",
   "nbconvert_exporter": "python",
   "pygments_lexer": "ipython3",
   "version": "3.7.1"
  }
 },
 "nbformat": 4,
 "nbformat_minor": 2
}
