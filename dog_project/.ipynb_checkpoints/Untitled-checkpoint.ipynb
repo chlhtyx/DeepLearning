{
 "cells": [
  {
   "cell_type": "code",
   "execution_count": 5,
   "metadata": {},
   "outputs": [
    {
     "name": "stdout",
     "output_type": "stream",
     "text": [
      "torch.Size([1, 3, 224, 224])\n",
      "813\n"
     ]
    }
   ],
   "source": [
    "import torch\n",
    "import numpy\n",
    "import torch.nn as nn\n",
    "import torch.nn.functional as F\n",
    "from PIL import Image\n",
    "from torchvision import transforms\n",
    "import torchvision.models as models\n",
    " \n",
    "vgg = models.vgg16()\n",
    "#pre=torch.load('./vgg16_bn-6c64b313.pth')\n",
    "#vgg.load_state_dict(pre)\n",
    " \n",
    "normalize = transforms.Normalize(mean=[0.485, 0.456, 0.406],#这是imagenet數據集的均值\n",
    "                                 std=[0.229, 0.224, 0.225])\n",
    " \n",
    "tran=transforms.Compose([\n",
    "    transforms.Resize((224,224)),\n",
    "    transforms.ToTensor(),\n",
    "    transforms.Normalize(mean=[0.485, 0.456, 0.406],\n",
    "                                 std=[0.229, 0.224, 0.225])\n",
    "])\n",
    "\n",
    " \n",
    "im='data/dogImages/train/001.Affenpinscher/Affenpinscher_00001.jpg'\n",
    "im=Image.open(im)\n",
    "im=tran(im)\n",
    "im.unsqueeze_(dim=0)\n",
    "print(im.shape)\n",
    "# input()\n",
    "out=vgg(im)\n",
    "outnp=out.data[0]\n",
    "ind=int(numpy.argmax(outnp))\n",
    "print(ind)\n",
    " \n",
    "\n"
   ]
  }
 ],
 "metadata": {
  "kernelspec": {
   "display_name": "Python 3",
   "language": "python",
   "name": "python3"
  },
  "language_info": {
   "codemirror_mode": {
    "name": "ipython",
    "version": 3
   },
   "file_extension": ".py",
   "mimetype": "text/x-python",
   "name": "python",
   "nbconvert_exporter": "python",
   "pygments_lexer": "ipython3",
   "version": "3.6.8"
  }
 },
 "nbformat": 4,
 "nbformat_minor": 2
}
